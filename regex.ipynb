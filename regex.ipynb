{
 "cells": [
  {
   "cell_type": "code",
   "execution_count": 1,
   "id": "a0839b8a",
   "metadata": {
    "_cell_guid": "b1076dfc-b9ad-4769-8c92-a6c4dae69d19",
    "_uuid": "8f2839f25d086af736a60e9eeb907d3b93b6e0e5",
    "execution": {
     "iopub.execute_input": "2023-12-16T09:02:20.805630Z",
     "iopub.status.busy": "2023-12-16T09:02:20.805095Z",
     "iopub.status.idle": "2023-12-16T09:02:20.820631Z",
     "shell.execute_reply": "2023-12-16T09:02:20.819395Z"
    },
    "papermill": {
     "duration": 0.030388,
     "end_time": "2023-12-16T09:02:20.823520",
     "exception": false,
     "start_time": "2023-12-16T09:02:20.793132",
     "status": "completed"
    },
    "tags": []
   },
   "outputs": [],
   "source": [
    "# This Python 3 environment comes with many helpful analytics libraries installed\n",
    "# It is defined by the kaggle/python Docker image: https://github.com/kaggle/docker-python\n",
    "# For example, here's several helpful packages to load\n",
    "\n",
    "import re"
   ]
  },
  {
   "cell_type": "code",
   "execution_count": 2,
   "id": "1c2a194d",
   "metadata": {
    "execution": {
     "iopub.execute_input": "2023-12-16T09:02:20.845630Z",
     "iopub.status.busy": "2023-12-16T09:02:20.845203Z",
     "iopub.status.idle": "2023-12-16T09:02:20.851700Z",
     "shell.execute_reply": "2023-12-16T09:02:20.850754Z"
    },
    "papermill": {
     "duration": 0.020935,
     "end_time": "2023-12-16T09:02:20.854286",
     "exception": false,
     "start_time": "2023-12-16T09:02:20.833351",
     "status": "completed"
    },
    "tags": []
   },
   "outputs": [
    {
     "name": "stdout",
     "output_type": "stream",
     "text": [
      "Wonderful!\n"
     ]
    }
   ],
   "source": [
    "text = \"This is a good day.\"\n",
    "\n",
    "if re.search(\"good\", text):\n",
    "    print(\"Wonderful!\")\n",
    "else:\n",
    "    print(\"Alas :(\")"
   ]
  },
  {
   "cell_type": "code",
   "execution_count": 3,
   "id": "331223d9",
   "metadata": {
    "execution": {
     "iopub.execute_input": "2023-12-16T09:02:20.875433Z",
     "iopub.status.busy": "2023-12-16T09:02:20.874962Z",
     "iopub.status.idle": "2023-12-16T09:02:20.884616Z",
     "shell.execute_reply": "2023-12-16T09:02:20.883288Z"
    },
    "papermill": {
     "duration": 0.023224,
     "end_time": "2023-12-16T09:02:20.886995",
     "exception": false,
     "start_time": "2023-12-16T09:02:20.863771",
     "status": "completed"
    },
    "tags": []
   },
   "outputs": [
    {
     "data": {
      "text/plain": [
       "['',\n",
       " ' works diligently. ',\n",
       " ' gets good grades. Our student ',\n",
       " ' is succesful.']"
      ]
     },
     "execution_count": 3,
     "metadata": {},
     "output_type": "execute_result"
    }
   ],
   "source": [
    "text = \"Amy works diligently. Amy gets good grades. Our student Amy is succesful.\"\n",
    "\n",
    "# The findall() and split() functions will parse the string for us and return chunks\n",
    "# Spilit this on all instances of Amy\n",
    "re.split(\"Amy\", text)"
   ]
  },
  {
   "cell_type": "code",
   "execution_count": 4,
   "id": "88f4e95d",
   "metadata": {
    "execution": {
     "iopub.execute_input": "2023-12-16T09:02:20.908859Z",
     "iopub.status.busy": "2023-12-16T09:02:20.908410Z",
     "iopub.status.idle": "2023-12-16T09:02:20.915759Z",
     "shell.execute_reply": "2023-12-16T09:02:20.914516Z"
    },
    "papermill": {
     "duration": 0.02137,
     "end_time": "2023-12-16T09:02:20.918022",
     "exception": false,
     "start_time": "2023-12-16T09:02:20.896652",
     "status": "completed"
    },
    "tags": []
   },
   "outputs": [
    {
     "data": {
      "text/plain": [
       "['Amy', 'Amy', 'Amy']"
      ]
     },
     "execution_count": 4,
     "metadata": {},
     "output_type": "execute_result"
    }
   ],
   "source": [
    "# findall() will find all instances\n",
    "re.findall(\"Amy\", text)"
   ]
  },
  {
   "cell_type": "code",
   "execution_count": 5,
   "id": "9af0f77a",
   "metadata": {
    "execution": {
     "iopub.execute_input": "2023-12-16T09:02:20.940155Z",
     "iopub.status.busy": "2023-12-16T09:02:20.939284Z",
     "iopub.status.idle": "2023-12-16T09:02:20.947387Z",
     "shell.execute_reply": "2023-12-16T09:02:20.946188Z"
    },
    "papermill": {
     "duration": 0.022127,
     "end_time": "2023-12-16T09:02:20.949822",
     "exception": false,
     "start_time": "2023-12-16T09:02:20.927695",
     "status": "completed"
    },
    "tags": []
   },
   "outputs": [
    {
     "data": {
      "text/plain": [
       "<re.Match object; span=(0, 3), match='Amy'>"
      ]
     },
     "execution_count": 5,
     "metadata": {},
     "output_type": "execute_result"
    }
   ],
   "source": [
    "# Anchor specifiy the start and/or the end of the string that you are trying to match. The caret character ^\n",
    "# means start and the dollar sign character $ menas end. \n",
    "re.search(\"^Amy\", text)"
   ]
  },
  {
   "cell_type": "markdown",
   "id": "2d5c53a0",
   "metadata": {
    "papermill": {
     "duration": 0.010212,
     "end_time": "2023-12-16T09:02:20.969887",
     "exception": false,
     "start_time": "2023-12-16T09:02:20.959675",
     "status": "completed"
    },
    "tags": []
   },
   "source": [
    "## Patterns and Character Classes"
   ]
  },
  {
   "cell_type": "code",
   "execution_count": 6,
   "id": "e8be6bd4",
   "metadata": {
    "execution": {
     "iopub.execute_input": "2023-12-16T09:02:20.992011Z",
     "iopub.status.busy": "2023-12-16T09:02:20.991593Z",
     "iopub.status.idle": "2023-12-16T09:02:20.999797Z",
     "shell.execute_reply": "2023-12-16T09:02:20.998500Z"
    },
    "papermill": {
     "duration": 0.022061,
     "end_time": "2023-12-16T09:02:21.002159",
     "exception": false,
     "start_time": "2023-12-16T09:02:20.980098",
     "status": "completed"
    },
    "tags": []
   },
   "outputs": [
    {
     "data": {
      "text/plain": [
       "['B', 'B', 'B']"
      ]
     },
     "execution_count": 6,
     "metadata": {},
     "output_type": "execute_result"
    }
   ],
   "source": [
    "grades=\"ACAAAABCBCBAA\"\n",
    "re.findall(\"B\", grades)"
   ]
  },
  {
   "cell_type": "code",
   "execution_count": 7,
   "id": "b0c4cba7",
   "metadata": {
    "execution": {
     "iopub.execute_input": "2023-12-16T09:02:21.024434Z",
     "iopub.status.busy": "2023-12-16T09:02:21.023947Z",
     "iopub.status.idle": "2023-12-16T09:02:21.032529Z",
     "shell.execute_reply": "2023-12-16T09:02:21.031400Z"
    },
    "papermill": {
     "duration": 0.022507,
     "end_time": "2023-12-16T09:02:21.034814",
     "exception": false,
     "start_time": "2023-12-16T09:02:21.012307",
     "status": "completed"
    },
    "tags": []
   },
   "outputs": [
    {
     "data": {
      "text/plain": [
       "['A', 'A', 'A', 'A', 'A', 'B', 'B', 'B', 'A', 'A']"
      ]
     },
     "execution_count": 7,
     "metadata": {},
     "output_type": "execute_result"
    }
   ],
   "source": [
    "# all A's or B's\n",
    "re.findall(\"[AB]\", grades)"
   ]
  },
  {
   "cell_type": "code",
   "execution_count": 8,
   "id": "475f4fa9",
   "metadata": {
    "execution": {
     "iopub.execute_input": "2023-12-16T09:02:21.058143Z",
     "iopub.status.busy": "2023-12-16T09:02:21.057667Z",
     "iopub.status.idle": "2023-12-16T09:02:21.065326Z",
     "shell.execute_reply": "2023-12-16T09:02:21.064016Z"
    },
    "papermill": {
     "duration": 0.022791,
     "end_time": "2023-12-16T09:02:21.068194",
     "exception": false,
     "start_time": "2023-12-16T09:02:21.045403",
     "status": "completed"
    },
    "tags": []
   },
   "outputs": [
    {
     "data": {
      "text/plain": [
       "['AB']"
      ]
     },
     "execution_count": 8,
     "metadata": {},
     "output_type": "execute_result"
    }
   ],
   "source": [
    "# A followed by B\n",
    "re.findall(\"[A][B]\", grades)"
   ]
  },
  {
   "cell_type": "code",
   "execution_count": 9,
   "id": "9e17dffe",
   "metadata": {
    "execution": {
     "iopub.execute_input": "2023-12-16T09:02:21.092347Z",
     "iopub.status.busy": "2023-12-16T09:02:21.091891Z",
     "iopub.status.idle": "2023-12-16T09:02:21.098857Z",
     "shell.execute_reply": "2023-12-16T09:02:21.097944Z"
    },
    "papermill": {
     "duration": 0.021896,
     "end_time": "2023-12-16T09:02:21.101060",
     "exception": false,
     "start_time": "2023-12-16T09:02:21.079164",
     "status": "completed"
    },
    "tags": []
   },
   "outputs": [
    {
     "data": {
      "text/plain": [
       "['AC', 'AB']"
      ]
     },
     "execution_count": 9,
     "metadata": {},
     "output_type": "execute_result"
    }
   ],
   "source": [
    "# A followed by B and C\n",
    "re.findall(\"[A][B-C]\", grades)"
   ]
  },
  {
   "cell_type": "code",
   "execution_count": 10,
   "id": "2c26dd1b",
   "metadata": {
    "execution": {
     "iopub.execute_input": "2023-12-16T09:02:21.125580Z",
     "iopub.status.busy": "2023-12-16T09:02:21.124943Z",
     "iopub.status.idle": "2023-12-16T09:02:21.132179Z",
     "shell.execute_reply": "2023-12-16T09:02:21.131056Z"
    },
    "papermill": {
     "duration": 0.023189,
     "end_time": "2023-12-16T09:02:21.135142",
     "exception": false,
     "start_time": "2023-12-16T09:02:21.111953",
     "status": "completed"
    },
    "tags": []
   },
   "outputs": [
    {
     "data": {
      "text/plain": [
       "['AC', 'AB']"
      ]
     },
     "execution_count": 10,
     "metadata": {},
     "output_type": "execute_result"
    }
   ],
   "source": [
    "# A followed by B or C\n",
    "re.findall(\"AB|AC\", grades)"
   ]
  },
  {
   "cell_type": "code",
   "execution_count": 11,
   "id": "9c311494",
   "metadata": {
    "execution": {
     "iopub.execute_input": "2023-12-16T09:02:21.159040Z",
     "iopub.status.busy": "2023-12-16T09:02:21.158434Z",
     "iopub.status.idle": "2023-12-16T09:02:21.165290Z",
     "shell.execute_reply": "2023-12-16T09:02:21.164282Z"
    },
    "papermill": {
     "duration": 0.021111,
     "end_time": "2023-12-16T09:02:21.167406",
     "exception": false,
     "start_time": "2023-12-16T09:02:21.146295",
     "status": "completed"
    },
    "tags": []
   },
   "outputs": [
    {
     "data": {
      "text/plain": [
       "['C', 'B', 'C', 'B', 'C', 'B']"
      ]
     },
     "execution_count": 11,
     "metadata": {},
     "output_type": "execute_result"
    }
   ],
   "source": [
    "# Parse out only the grades which were not A's\n",
    "re.findall(\"[^A]\", grades)"
   ]
  },
  {
   "cell_type": "markdown",
   "id": "320188b0",
   "metadata": {
    "papermill": {
     "duration": 0.01059,
     "end_time": "2023-12-16T09:02:21.189304",
     "exception": false,
     "start_time": "2023-12-16T09:02:21.178714",
     "status": "completed"
    },
    "tags": []
   },
   "source": [
    "## Quantifiers"
   ]
  },
  {
   "cell_type": "code",
   "execution_count": 12,
   "id": "b3e1dba1",
   "metadata": {
    "execution": {
     "iopub.execute_input": "2023-12-16T09:02:21.213272Z",
     "iopub.status.busy": "2023-12-16T09:02:21.212634Z",
     "iopub.status.idle": "2023-12-16T09:02:21.219674Z",
     "shell.execute_reply": "2023-12-16T09:02:21.218376Z"
    },
    "papermill": {
     "duration": 0.022301,
     "end_time": "2023-12-16T09:02:21.222482",
     "exception": false,
     "start_time": "2023-12-16T09:02:21.200181",
     "status": "completed"
    },
    "tags": []
   },
   "outputs": [
    {
     "data": {
      "text/plain": [
       "[]"
      ]
     },
     "execution_count": 12,
     "metadata": {},
     "output_type": "execute_result"
    }
   ],
   "source": [
    "# Back to back A's streak\n",
    "# item{min, max}\n",
    "re.findall(\"A{2, 10}\", grades)"
   ]
  },
  {
   "cell_type": "code",
   "execution_count": 13,
   "id": "f0bc55e5",
   "metadata": {
    "execution": {
     "iopub.execute_input": "2023-12-16T09:02:21.247498Z",
     "iopub.status.busy": "2023-12-16T09:02:21.246411Z",
     "iopub.status.idle": "2023-12-16T09:02:21.254850Z",
     "shell.execute_reply": "2023-12-16T09:02:21.253659Z"
    },
    "papermill": {
     "duration": 0.0236,
     "end_time": "2023-12-16T09:02:21.257288",
     "exception": false,
     "start_time": "2023-12-16T09:02:21.233688",
     "status": "completed"
    },
    "tags": []
   },
   "outputs": [
    {
     "data": {
      "text/plain": [
       "['AA', 'AA', 'AA']"
      ]
     },
     "execution_count": 13,
     "metadata": {},
     "output_type": "execute_result"
    }
   ],
   "source": [
    "re.findall(\"A{1,1}A{1,1}\", grades)"
   ]
  },
  {
   "cell_type": "code",
   "execution_count": 14,
   "id": "5916ac8a",
   "metadata": {
    "execution": {
     "iopub.execute_input": "2023-12-16T09:02:21.283300Z",
     "iopub.status.busy": "2023-12-16T09:02:21.282526Z",
     "iopub.status.idle": "2023-12-16T09:02:21.290375Z",
     "shell.execute_reply": "2023-12-16T09:02:21.289105Z"
    },
    "papermill": {
     "duration": 0.024252,
     "end_time": "2023-12-16T09:02:21.292970",
     "exception": false,
     "start_time": "2023-12-16T09:02:21.268718",
     "status": "completed"
    },
    "tags": []
   },
   "outputs": [
    {
     "data": {
      "text/plain": [
       "[]"
      ]
     },
     "execution_count": 14,
     "metadata": {},
     "output_type": "execute_result"
    }
   ],
   "source": [
    "# because of extra space\n",
    "re.findall('A{2, 2}', grades)"
   ]
  },
  {
   "cell_type": "code",
   "execution_count": 15,
   "id": "213b624d",
   "metadata": {
    "execution": {
     "iopub.execute_input": "2023-12-16T09:02:21.318505Z",
     "iopub.status.busy": "2023-12-16T09:02:21.317771Z",
     "iopub.status.idle": "2023-12-16T09:02:21.324865Z",
     "shell.execute_reply": "2023-12-16T09:02:21.323775Z"
    },
    "papermill": {
     "duration": 0.022327,
     "end_time": "2023-12-16T09:02:21.327050",
     "exception": false,
     "start_time": "2023-12-16T09:02:21.304723",
     "status": "completed"
    },
    "tags": []
   },
   "outputs": [
    {
     "data": {
      "text/plain": [
       "['AA', 'AA', 'AA']"
      ]
     },
     "execution_count": 15,
     "metadata": {},
     "output_type": "execute_result"
    }
   ],
   "source": [
    "re.findall(\"AA\", grades)"
   ]
  },
  {
   "cell_type": "code",
   "execution_count": 16,
   "id": "cb184841",
   "metadata": {
    "execution": {
     "iopub.execute_input": "2023-12-16T09:02:21.352100Z",
     "iopub.status.busy": "2023-12-16T09:02:21.351524Z",
     "iopub.status.idle": "2023-12-16T09:02:21.358759Z",
     "shell.execute_reply": "2023-12-16T09:02:21.357498Z"
    },
    "papermill": {
     "duration": 0.022911,
     "end_time": "2023-12-16T09:02:21.361396",
     "exception": false,
     "start_time": "2023-12-16T09:02:21.338485",
     "status": "completed"
    },
    "tags": []
   },
   "outputs": [
    {
     "data": {
      "text/plain": [
       "['AAAABC']"
      ]
     },
     "execution_count": 16,
     "metadata": {},
     "output_type": "execute_result"
    }
   ],
   "source": [
    "re.findall(\"A{1,10}B{1,10}C{1,10}\", grades)"
   ]
  },
  {
   "cell_type": "code",
   "execution_count": 17,
   "id": "3e5b0b62",
   "metadata": {
    "execution": {
     "iopub.execute_input": "2023-12-16T09:02:21.386925Z",
     "iopub.status.busy": "2023-12-16T09:02:21.386546Z",
     "iopub.status.idle": "2023-12-16T09:02:21.406851Z",
     "shell.execute_reply": "2023-12-16T09:02:21.405552Z"
    },
    "papermill": {
     "duration": 0.0366,
     "end_time": "2023-12-16T09:02:21.409538",
     "exception": false,
     "start_time": "2023-12-16T09:02:21.372938",
     "status": "completed"
    },
    "tags": []
   },
   "outputs": [
    {
     "data": {
      "text/plain": [
       "'Overview[edit]\\nFERPA gives parents access to their child\\'s education records, an opportunity to seek to have the records amended, and some control over the disclosure of information from the records. With several exceptions, schools must have a student\\'s consent prior to the disclosure of education records after that student is 18 years old. The law applies only to educational agencies and institutions that receive funds under a program administered by the U.S. Department of Education.\\n\\nOther regulations under this act, effective starting January 3, 2012, allow for greater disclosures of personal and directory student identifying information and regulate student IDs and e-mail addresses.[2] For example, schools may provide external companies with a student\\'s personally identifiable information without the student\\'s consent.[2]\\n\\nExamples of situations affected by FERPA include school employees divulging information to anyone other than the student about the student\\'s grades or behavior, and school work posted on a bulletin board with a grade. Generally, schools must have written permission from the parent or eligible student in order to release any information from a student\\'s education record.\\n\\nThis privacy policy also governs how state agencies transmit testing data to federal agencies, such as the Education Data Exchange Network.\\n\\nThis U.S. federal law also gave students 18 years of age or older, or students of any age if enrolled in any post-secondary educational institution, the right of privacy regarding grades, enrollment, and even billing information unless the school has specific permission from the student to share that specific type of information.\\n\\nFERPA also permits a school to disclose personally identifiable information from education records of an \"eligible student\" (a student age 18 or older or enrolled in a postsecondary institution at any age) to his or her parents if the student is a \"dependent student\" as that term is defined in Section 152 of the Internal Revenue Code. Generally, if either parent has claimed the student as a dependent on the parent\\'s most recent income tax statement, the school may non-consensually disclose the student\\'s education records to both parents.[3]\\n\\nThe law allowed students who apply to an educational institution such as graduate school permission to view recommendations submitted by others as part of the application. However, on standard application forms, students are given the option to waive this right.\\n\\nFERPA specifically excludes employees of an educational institution if they are not students.\\n\\nThe act is also referred to as the Buckley Amendment, for one of its proponents, Senator James L. Buckley of New York.\\n\\nAccess to public records[edit]\\nThe citing of FERPA to conceal public records that are not \"educational\" in nature has been widely criticized, including by the act\\'s primary Senate sponsor.[4] For example, in the Owasso Independent School District v. Falvo case, an important part of the debate was determining the relationship between peer-grading and \"education records\" as defined in FERPA. In the Court of Appeals, it was ruled that students placing grades on the work of other students made such work into an \"education record.\" Thus, peer-grading was determined as a violation of FERPA privacy policies because students had access to other students\\' academic performance without full consent.[5] However, when the case went to the Supreme Court, it was officially ruled that peer-grading was not a violation of FERPA. This is because a grade written on a student\\'s work does not become an \"education record\" until the teacher writes the final grade into a grade book.[6]\\n\\nStudent medical records[edit]\\nLegal experts have debated the issue of whether student medical records (for example records of therapy sessions with a therapist at an on-campus counseling center) might be released to the school administration under certain triggering events, such as when a student sued his college or university.[7][8]\\n\\nUsually, student medical treatment records will remain under the protection of FERPA, not the Health Insurance Portability and Accountability Act (HIPAA). This is due to the \"FERPA Exception\" written within HIPAA.[9]'"
      ]
     },
     "execution_count": 17,
     "metadata": {},
     "output_type": "execute_result"
    }
   ],
   "source": [
    "with open(\"/kaggle/input/wiki-dataset/ferpa.txt\", \"r\") as file:\n",
    "    wiki=file.read()\n",
    "wiki"
   ]
  },
  {
   "cell_type": "code",
   "execution_count": 18,
   "id": "1191aa4f",
   "metadata": {
    "execution": {
     "iopub.execute_input": "2023-12-16T09:02:21.435619Z",
     "iopub.status.busy": "2023-12-16T09:02:21.435236Z",
     "iopub.status.idle": "2023-12-16T09:02:21.442491Z",
     "shell.execute_reply": "2023-12-16T09:02:21.441508Z"
    },
    "papermill": {
     "duration": 0.022915,
     "end_time": "2023-12-16T09:02:21.444626",
     "exception": false,
     "start_time": "2023-12-16T09:02:21.421711",
     "status": "completed"
    },
    "tags": []
   },
   "outputs": [
    {
     "data": {
      "text/plain": [
       "['Overview[edit]', 'records[edit]', 'records[edit]']"
      ]
     },
     "execution_count": 18,
     "metadata": {},
     "output_type": "execute_result"
    }
   ],
   "source": [
    "# all headers have [edit] at the end notice that\n",
    "\n",
    "re.findall(\"[a-zA-Z]{1,100}\\[edit\\]\", wiki)"
   ]
  },
  {
   "cell_type": "code",
   "execution_count": 19,
   "id": "5b4d6206",
   "metadata": {
    "execution": {
     "iopub.execute_input": "2023-12-16T09:02:21.471172Z",
     "iopub.status.busy": "2023-12-16T09:02:21.469803Z",
     "iopub.status.idle": "2023-12-16T09:02:21.480728Z",
     "shell.execute_reply": "2023-12-16T09:02:21.479370Z"
    },
    "papermill": {
     "duration": 0.026569,
     "end_time": "2023-12-16T09:02:21.483084",
     "exception": false,
     "start_time": "2023-12-16T09:02:21.456515",
     "status": "completed"
    },
    "tags": []
   },
   "outputs": [
    {
     "data": {
      "text/plain": [
       "['Overview[edit]',\n",
       " 'Access to public records[edit]',\n",
       " 'Student medical records[edit]']"
      ]
     },
     "execution_count": 19,
     "metadata": {},
     "output_type": "execute_result"
    }
   ],
   "source": [
    "# \\w is a metacharacter, and indicates a special pattern of any letter or digit\n",
    "# \\s maches whitespcae character\n",
    "# asterix * to match 0 or more times\n",
    "\n",
    "re.findall(\"[\\w ]*\\[edit\\]\", wiki)"
   ]
  },
  {
   "cell_type": "code",
   "execution_count": 20,
   "id": "6462b897",
   "metadata": {
    "execution": {
     "iopub.execute_input": "2023-12-16T09:02:21.508990Z",
     "iopub.status.busy": "2023-12-16T09:02:21.508629Z",
     "iopub.status.idle": "2023-12-16T09:02:21.518232Z",
     "shell.execute_reply": "2023-12-16T09:02:21.516892Z"
    },
    "papermill": {
     "duration": 0.025769,
     "end_time": "2023-12-16T09:02:21.520938",
     "exception": false,
     "start_time": "2023-12-16T09:02:21.495169",
     "status": "completed"
    },
    "tags": []
   },
   "outputs": [
    {
     "name": "stdout",
     "output_type": "stream",
     "text": [
      "Overview\n",
      "Access to public records\n",
      "Student medical records\n"
     ]
    }
   ],
   "source": [
    "# create a list\n",
    "for title in re.findall(\"[\\w ]*\\[edit\\]\", wiki):\n",
    "    print(re.split(\"[\\[]\", title)[0])"
   ]
  },
  {
   "cell_type": "markdown",
   "id": "6d354fea",
   "metadata": {
    "papermill": {
     "duration": 0.013009,
     "end_time": "2023-12-16T09:02:21.546183",
     "exception": false,
     "start_time": "2023-12-16T09:02:21.533174",
     "status": "completed"
    },
    "tags": []
   },
   "source": [
    "# Groups"
   ]
  },
  {
   "cell_type": "code",
   "execution_count": 21,
   "id": "7063d5cf",
   "metadata": {
    "execution": {
     "iopub.execute_input": "2023-12-16T09:02:21.572517Z",
     "iopub.status.busy": "2023-12-16T09:02:21.572108Z",
     "iopub.status.idle": "2023-12-16T09:02:21.592333Z",
     "shell.execute_reply": "2023-12-16T09:02:21.590843Z"
    },
    "papermill": {
     "duration": 0.03652,
     "end_time": "2023-12-16T09:02:21.595050",
     "exception": false,
     "start_time": "2023-12-16T09:02:21.558530",
     "status": "completed"
    },
    "tags": []
   },
   "outputs": [
    {
     "name": "stdout",
     "output_type": "stream",
     "text": [
      "('Overview', '[edit]')\n",
      "('Access to public records', '[edit]')\n",
      "('Student medical records', '[edit]')\n"
     ]
    }
   ],
   "source": [
    "# To return a list\n",
    "for item in re.finditer(\"([\\w ]*)(\\[edit\\])\", wiki):\n",
    "    print(item.groups())"
   ]
  },
  {
   "cell_type": "code",
   "execution_count": 22,
   "id": "d8d6857b",
   "metadata": {
    "execution": {
     "iopub.execute_input": "2023-12-16T09:02:21.622819Z",
     "iopub.status.busy": "2023-12-16T09:02:21.622262Z",
     "iopub.status.idle": "2023-12-16T09:02:21.642655Z",
     "shell.execute_reply": "2023-12-16T09:02:21.641291Z"
    },
    "papermill": {
     "duration": 0.037699,
     "end_time": "2023-12-16T09:02:21.645324",
     "exception": false,
     "start_time": "2023-12-16T09:02:21.607625",
     "status": "completed"
    },
    "tags": []
   },
   "outputs": [
    {
     "name": "stdout",
     "output_type": "stream",
     "text": [
      "Overview\n",
      "Access to public records\n",
      "Student medical records\n"
     ]
    }
   ],
   "source": [
    "for item in re.finditer(\"([\\w ]*)(\\[edit\\])\", wiki):\n",
    "    print(item.group(1))"
   ]
  },
  {
   "cell_type": "code",
   "execution_count": 23,
   "id": "0dfd51ca",
   "metadata": {
    "execution": {
     "iopub.execute_input": "2023-12-16T09:02:21.672438Z",
     "iopub.status.busy": "2023-12-16T09:02:21.671510Z",
     "iopub.status.idle": "2023-12-16T09:02:21.691656Z",
     "shell.execute_reply": "2023-12-16T09:02:21.690288Z"
    },
    "papermill": {
     "duration": 0.03679,
     "end_time": "2023-12-16T09:02:21.694356",
     "exception": false,
     "start_time": "2023-12-16T09:02:21.657566",
     "status": "completed"
    },
    "tags": []
   },
   "outputs": [
    {
     "name": "stdout",
     "output_type": "stream",
     "text": [
      "Overview\n",
      "Access to public records\n",
      "Student medical records\n"
     ]
    }
   ],
   "source": [
    "# ?P indicates that this is an extension to basic regex, and <name> is the dictionary key we want to use wrapped in\n",
    "for item in re.finditer(\"(?P<title>[\\w ]*)(?P<edit_link>\\[edit\\])\", wiki):\n",
    "    print(item.groupdict()['title'])"
   ]
  },
  {
   "cell_type": "code",
   "execution_count": 24,
   "id": "3f24f614",
   "metadata": {
    "execution": {
     "iopub.execute_input": "2023-12-16T09:02:21.721586Z",
     "iopub.status.busy": "2023-12-16T09:02:21.721117Z",
     "iopub.status.idle": "2023-12-16T09:02:21.727767Z",
     "shell.execute_reply": "2023-12-16T09:02:21.726501Z"
    },
    "papermill": {
     "duration": 0.023386,
     "end_time": "2023-12-16T09:02:21.730247",
     "exception": false,
     "start_time": "2023-12-16T09:02:21.706861",
     "status": "completed"
    },
    "tags": []
   },
   "outputs": [
    {
     "name": "stdout",
     "output_type": "stream",
     "text": [
      "{'title': 'Student medical records', 'edit_link': '[edit]'}\n"
     ]
    }
   ],
   "source": [
    "print(item.groupdict())"
   ]
  },
  {
   "cell_type": "markdown",
   "id": "3ecc50ff",
   "metadata": {
    "papermill": {
     "duration": 0.077614,
     "end_time": "2023-12-16T09:02:21.820560",
     "exception": false,
     "start_time": "2023-12-16T09:02:21.742946",
     "status": "completed"
    },
    "tags": []
   },
   "source": [
    "# Look-ahead and Look-behind"
   ]
  },
  {
   "cell_type": "code",
   "execution_count": 25,
   "id": "38119e4c",
   "metadata": {
    "execution": {
     "iopub.execute_input": "2023-12-16T09:02:21.848655Z",
     "iopub.status.busy": "2023-12-16T09:02:21.848183Z",
     "iopub.status.idle": "2023-12-16T09:02:21.870848Z",
     "shell.execute_reply": "2023-12-16T09:02:21.869298Z"
    },
    "papermill": {
     "duration": 0.039914,
     "end_time": "2023-12-16T09:02:21.873542",
     "exception": false,
     "start_time": "2023-12-16T09:02:21.833628",
     "status": "completed"
    },
    "tags": []
   },
   "outputs": [
    {
     "name": "stdout",
     "output_type": "stream",
     "text": [
      "<re.Match object; span=(0, 8), match='Overview'>\n",
      "<re.Match object; span=(2715, 2739), match='Access to public records'>\n",
      "<re.Match object; span=(3692, 3715), match='Student medical records'>\n"
     ]
    }
   ],
   "source": [
    "for item in re.finditer(\"(?P<title>[\\w ]+)(?=\\[edit\\])\", wiki):\n",
    "    # Her the first will be named and called titile, will have any amount of white space or regular word characters, the second will be the characters [edit]\n",
    "    # but we don't actually want this edit put in ourput match object\n",
    "    print(item)"
   ]
  },
  {
   "cell_type": "code",
   "execution_count": null,
   "id": "05c0ba14",
   "metadata": {
    "papermill": {
     "duration": 0.01318,
     "end_time": "2023-12-16T09:02:21.899853",
     "exception": false,
     "start_time": "2023-12-16T09:02:21.886673",
     "status": "completed"
    },
    "tags": []
   },
   "outputs": [],
   "source": []
  }
 ],
 "metadata": {
  "kaggle": {
   "accelerator": "none",
   "dataSources": [
    {
     "datasetId": 4174527,
     "sourceId": 7214061,
     "sourceType": "datasetVersion"
    }
   ],
   "dockerImageVersionId": 30626,
   "isGpuEnabled": false,
   "isInternetEnabled": true,
   "language": "python",
   "sourceType": "notebook"
  },
  "kernelspec": {
   "display_name": "Python 3",
   "language": "python",
   "name": "python3"
  },
  "language_info": {
   "codemirror_mode": {
    "name": "ipython",
    "version": 3
   },
   "file_extension": ".py",
   "mimetype": "text/x-python",
   "name": "python",
   "nbconvert_exporter": "python",
   "pygments_lexer": "ipython3",
   "version": "3.10.12"
  },
  "papermill": {
   "default_parameters": {},
   "duration": 5.218718,
   "end_time": "2023-12-16T09:02:22.435178",
   "environment_variables": {},
   "exception": null,
   "input_path": "__notebook__.ipynb",
   "output_path": "__notebook__.ipynb",
   "parameters": {},
   "start_time": "2023-12-16T09:02:17.216460",
   "version": "2.4.0"
  }
 },
 "nbformat": 4,
 "nbformat_minor": 5
}
